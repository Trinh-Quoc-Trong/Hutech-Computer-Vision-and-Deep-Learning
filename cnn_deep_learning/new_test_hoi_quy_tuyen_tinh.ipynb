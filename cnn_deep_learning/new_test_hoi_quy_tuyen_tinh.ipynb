{
 "cells": [
  {
   "cell_type": "markdown",
   "metadata": {},
   "source": [
    "# Hồi quy logistic"
   ]
  },
  {
   "cell_type": "code",
   "execution_count": null,
   "metadata": {},
   "outputs": [],
   "source": [
    "import numpy as np\n",
    "import pandas as pd\n",
    "import matplotlib.pyplot as plt\n",
    "from sklearn.datasets import load_iris\n",
    "from sklearn.model_selection import train_test_split\n",
    "from sklearn.linear_model import LinearRegression\n",
    "from sklearn.metrics import mean_squared_error, r2_score\n",
    "from sklearn.preprocessing import StandardScaler"
   ]
  },
  {
   "cell_type": "code",
   "execution_count": 2,
   "metadata": {},
   "outputs": [],
   "source": [
    "def load_iris_data():\n",
    "    iris = load_iris()\n",
    "    df = pd.DataFrame(data=np.c_[iris['data'], iris['target']], columns=iris['feature_names']+['target'])\n",
    "\n",
    "    return df, iris['feature_names']"
   ]
  },
  {
   "cell_type": "code",
   "execution_count": null,
   "metadata": {},
   "outputs": [],
   "source": [
    "from sympy import rotations\n",
    "\n",
    "\n",
    "def prepare_multivariate_data(df, target_index = 0, scale = true):\n",
    "    features = df.iloc[:, [i for i in range(4) if i!= target_index]]\n",
    "    print(\"\\nPham vi gia tri cua cac dac trung truoc khi chuan hoa: \")\n",
    "    print(f'{column}')\n",
    "    print(f\" - Min: {X_trai[column].mix():.2f}\")\n",
    "    print(f\" - Max: {X_train[column].max():.2f}\")\n",
    "    print(f\" - Mean: {X_train[column].mean():.2f}\")\n",
    "    print(f\" - Std: {X_train[column].std():.2f}\")\n",
    "    \n",
    "plt.figure(figsize=(15,5))\n",
    "\n",
    "plt.subplot(1,2,1)\n",
    "features.boxplot()\n",
    "plt.title('Phan phoi truoc khi chuan hoa')\n",
    "plt.xticks(rotations = 45)\n",
    "\n",
    "plt.subplot(1,2,2)\n",
    "X_"
   ]
  },
  {
   "cell_type": "markdown",
   "metadata": {},
   "source": [
    "1,16515\n",
    "1,22485\n"
   ]
  },
  {
   "cell_type": "code",
   "execution_count": null,
   "metadata": {},
   "outputs": [],
   "source": []
  }
 ],
 "metadata": {
  "kernelspec": {
   "display_name": "Python 3",
   "language": "python",
   "name": "python3"
  },
  "language_info": {
   "codemirror_mode": {
    "name": "ipython",
    "version": 3
   },
   "file_extension": ".py",
   "mimetype": "text/x-python",
   "name": "python",
   "nbconvert_exporter": "python",
   "pygments_lexer": "ipython3",
   "version": "3.13.2"
  }
 },
 "nbformat": 4,
 "nbformat_minor": 2
}
