{
 "cells": [
  {
   "cell_type": "markdown",
   "metadata": {},
   "source": [
    "# đi học vào ngày chủ nhật"
   ]
  },
  {
   "cell_type": "markdown",
   "metadata": {},
   "source": []
  }
 ],
 "metadata": {
  "language_info": {
   "name": "python"
  }
 },
 "nbformat": 4,
 "nbformat_minor": 2
}
