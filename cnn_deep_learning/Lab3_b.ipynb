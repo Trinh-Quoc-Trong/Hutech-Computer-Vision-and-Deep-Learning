{
 "cells": [
  {
   "cell_type": "code",
   "execution_count": 15,
   "id": "72d9394d-9d9d-4968-8ae3-b717679825a2",
   "metadata": {},
   "outputs": [],
   "source": [
    "import numpy as np\n",
    "import pandas as pd\n",
    "import matplotlib.pyplot as plt\n",
    "from sklearn.datasets import load_breast_cancer\n",
    "from sklearn.model_selection import train_test_split\n",
    "from sklearn.linear_model import LogisticRegression\n",
    "from sklearn.metrics import classification_report, confusion_matrix, accuracy_score, roc_curve, auc\n",
    "from sklearn.preprocessing import StandardScaler\n",
    "from sklearn.feature_selection import RFE"
   ]
  },
  {
   "cell_type": "markdown",
   "id": "df405cf9-94d9-414d-9122-6767244b899d",
   "metadata": {},
   "source": [
    "### Bước 1: Tạo dữ liệu mẫu và lưu vào file Excel"
   ]
  },
  {
   "cell_type": "code",
   "execution_count": 5,
   "id": "0c2c97b2-a94f-478b-bad9-e8499310ff52",
   "metadata": {},
   "outputs": [],
   "source": [
    "def create_sample_data():\n",
    "    # Tạo dữ liệu mẫu về giá nhà\n",
    "    np.random.seed(42)\n",
    "    n_samples = 200\n",
    "    \n",
    "    # Tạo các biến độc lập\n",
    "    area = np.random.randint(50, 300, n_samples)  # Diện tích (m²)\n",
    "    rooms = np.random.randint(1, 6, n_samples)    # Số phòng\n",
    "    age = np.random.randint(0, 50, n_samples)     # Tuổi nhà (năm)\n",
    "    floor = np.random.randint(1, 20, n_samples)   # Tầng\n",
    "    distance_to_center = np.random.uniform(0.1, 10, n_samples)  # Khoảng cách đến trung tâm (km)\n",
    "    \n",
    "    # Tạo biến phụ thuộc (giá nhà) với một số nhiễu\n",
    "    price = (\n",
    "        3000 * area + \n",
    "        15000 * rooms - \n",
    "        2000 * age + \n",
    "        5000 * floor - \n",
    "        10000 * distance_to_center + \n",
    "        np.random.normal(0, 100000, n_samples)\n",
    "    )\n",
    "    \n",
    "    # Tạo DataFrame\n",
    "    data = pd.DataFrame({\n",
    "        'area': area,\n",
    "        'rooms': rooms,\n",
    "        'age': age,\n",
    "        'floor': floor,\n",
    "        'distance_to_center': distance_to_center,\n",
    "        'price': price\n",
    "    })\n",
    "    \n",
    "    # Lưu vào file Excel\n",
    "    data.to_excel('house_price_data.xlsx', index=False)\n",
    "    print(\"Đã tạo và lưu file 'house_price_data.xlsx'\")\n",
    "    return data"
   ]
  },
  {
   "cell_type": "code",
   "execution_count": 8,
   "id": "7651a906-4747-4a49-9f72-07fbd92e0b25",
   "metadata": {},
   "outputs": [
    {
     "name": "stdout",
     "output_type": "stream",
     "text": [
      "Đã tạo và lưu file 'house_price_data.xlsx'\n"
     ]
    },
    {
     "data": {
      "text/html": [
       "<div>\n",
       "<style scoped>\n",
       "    .dataframe tbody tr th:only-of-type {\n",
       "        vertical-align: middle;\n",
       "    }\n",
       "\n",
       "    .dataframe tbody tr th {\n",
       "        vertical-align: top;\n",
       "    }\n",
       "\n",
       "    .dataframe thead th {\n",
       "        text-align: right;\n",
       "    }\n",
       "</style>\n",
       "<table border=\"1\" class=\"dataframe\">\n",
       "  <thead>\n",
       "    <tr style=\"text-align: right;\">\n",
       "      <th></th>\n",
       "      <th>area</th>\n",
       "      <th>rooms</th>\n",
       "      <th>age</th>\n",
       "      <th>floor</th>\n",
       "      <th>distance_to_center</th>\n",
       "      <th>price</th>\n",
       "    </tr>\n",
       "  </thead>\n",
       "  <tbody>\n",
       "    <tr>\n",
       "      <th>0</th>\n",
       "      <td>152</td>\n",
       "      <td>5</td>\n",
       "      <td>41</td>\n",
       "      <td>13</td>\n",
       "      <td>7.006655</td>\n",
       "      <td>3.420715e+05</td>\n",
       "    </tr>\n",
       "    <tr>\n",
       "      <th>1</th>\n",
       "      <td>229</td>\n",
       "      <td>5</td>\n",
       "      <td>25</td>\n",
       "      <td>19</td>\n",
       "      <td>7.985071</td>\n",
       "      <td>1.024769e+06</td>\n",
       "    </tr>\n",
       "    <tr>\n",
       "      <th>2</th>\n",
       "      <td>142</td>\n",
       "      <td>3</td>\n",
       "      <td>34</td>\n",
       "      <td>17</td>\n",
       "      <td>4.647533</td>\n",
       "      <td>5.829498e+05</td>\n",
       "    </tr>\n",
       "    <tr>\n",
       "      <th>3</th>\n",
       "      <td>64</td>\n",
       "      <td>5</td>\n",
       "      <td>49</td>\n",
       "      <td>4</td>\n",
       "      <td>8.436705</td>\n",
       "      <td>5.727407e+04</td>\n",
       "    </tr>\n",
       "    <tr>\n",
       "      <th>4</th>\n",
       "      <td>156</td>\n",
       "      <td>4</td>\n",
       "      <td>24</td>\n",
       "      <td>12</td>\n",
       "      <td>7.712286</td>\n",
       "      <td>4.656036e+05</td>\n",
       "    </tr>\n",
       "    <tr>\n",
       "      <th>...</th>\n",
       "      <td>...</td>\n",
       "      <td>...</td>\n",
       "      <td>...</td>\n",
       "      <td>...</td>\n",
       "      <td>...</td>\n",
       "      <td>...</td>\n",
       "    </tr>\n",
       "    <tr>\n",
       "      <th>195</th>\n",
       "      <td>290</td>\n",
       "      <td>1</td>\n",
       "      <td>16</td>\n",
       "      <td>6</td>\n",
       "      <td>5.411165</td>\n",
       "      <td>8.904592e+05</td>\n",
       "    </tr>\n",
       "    <tr>\n",
       "      <th>196</th>\n",
       "      <td>101</td>\n",
       "      <td>1</td>\n",
       "      <td>48</td>\n",
       "      <td>1</td>\n",
       "      <td>3.850333</td>\n",
       "      <td>1.688964e+05</td>\n",
       "    </tr>\n",
       "    <tr>\n",
       "      <th>197</th>\n",
       "      <td>145</td>\n",
       "      <td>1</td>\n",
       "      <td>19</td>\n",
       "      <td>15</td>\n",
       "      <td>4.624302</td>\n",
       "      <td>3.443762e+05</td>\n",
       "    </tr>\n",
       "    <tr>\n",
       "      <th>198</th>\n",
       "      <td>181</td>\n",
       "      <td>3</td>\n",
       "      <td>47</td>\n",
       "      <td>10</td>\n",
       "      <td>6.079183</td>\n",
       "      <td>5.488965e+05</td>\n",
       "    </tr>\n",
       "    <tr>\n",
       "      <th>199</th>\n",
       "      <td>271</td>\n",
       "      <td>5</td>\n",
       "      <td>24</td>\n",
       "      <td>19</td>\n",
       "      <td>5.072655</td>\n",
       "      <td>9.634384e+05</td>\n",
       "    </tr>\n",
       "  </tbody>\n",
       "</table>\n",
       "<p>200 rows × 6 columns</p>\n",
       "</div>"
      ],
      "text/plain": [
       "     area  rooms  age  floor  distance_to_center         price\n",
       "0     152      5   41     13            7.006655  3.420715e+05\n",
       "1     229      5   25     19            7.985071  1.024769e+06\n",
       "2     142      3   34     17            4.647533  5.829498e+05\n",
       "3      64      5   49      4            8.436705  5.727407e+04\n",
       "4     156      4   24     12            7.712286  4.656036e+05\n",
       "..    ...    ...  ...    ...                 ...           ...\n",
       "195   290      1   16      6            5.411165  8.904592e+05\n",
       "196   101      1   48      1            3.850333  1.688964e+05\n",
       "197   145      1   19     15            4.624302  3.443762e+05\n",
       "198   181      3   47     10            6.079183  5.488965e+05\n",
       "199   271      5   24     19            5.072655  9.634384e+05\n",
       "\n",
       "[200 rows x 6 columns]"
      ]
     },
     "execution_count": 8,
     "metadata": {},
     "output_type": "execute_result"
    }
   ],
   "source": [
    "create_sample_data()"
   ]
  },
  {
   "cell_type": "code",
   "execution_count": 5,
   "id": "c35c5e67-982d-458d-871e-bac5cb3edfb1",
   "metadata": {},
   "outputs": [],
   "source": [
    "# Bước 2: Đọc dữ liệu từ file Excel"
   ]
  },
  {
   "cell_type": "code",
   "execution_count": 9,
   "id": "b39e86dc-21ca-4a28-97f4-4afb0c8f70a0",
   "metadata": {},
   "outputs": [
    {
     "name": "stdout",
     "output_type": "stream",
     "text": [
      "Đã đọc thành công file Excel.\n"
     ]
    }
   ],
   "source": [
    "try:\n",
    "    # Thay đổi đường dẫn nếu file của bạn ở vị trí khác\n",
    "    df = pd.read_excel('house_price_data.xlsx')\n",
    "    print(\"Đã đọc thành công file Excel.\")\n",
    "except FileNotFoundError:\n",
    "    print(\"Không tìm thấy file Excel. Tạo dữ liệu mẫu...\")\n",
    "    df = create_sample_data()"
   ]
  },
  {
   "cell_type": "code",
   "execution_count": 8,
   "id": "998f87be-32e8-4ef2-9c28-a85676eb0099",
   "metadata": {},
   "outputs": [
    {
     "name": "stdout",
     "output_type": "stream",
     "text": [
      "\n",
      "Ngưỡng giá phân loại: 533,652.52\n",
      "Phân phối lớp: {0: 100, 1: 100}\n"
     ]
    }
   ],
   "source": [
    "# Bước 3: Chuyển đổi bài toán thành bài toán phân loại\n",
    "# Xác định ngưỡng giá để phân loại nhà có \"giá cao\" (1) hay \"giá thấp\" (0)\n",
    "threshold = df['price'].median()\n",
    "print(f\"\\nNgưỡng giá phân loại: {threshold:,.2f}\")\n",
    "\n",
    "# Tạo biến target mới cho bài toán phân loại\n",
    "df['high_price'] = (df['price'] > threshold).astype(int)\n",
    "print(f\"Phân phối lớp: {df['high_price'].value_counts().to_dict()}\")"
   ]
  },
  {
   "cell_type": "code",
   "execution_count": 9,
   "id": "fdc056e8-14cb-4cf2-835d-db0cebdcfd1f",
   "metadata": {},
   "outputs": [
    {
     "name": "stdout",
     "output_type": "stream",
     "text": [
      "\n",
      "Thông tin về tập dữ liệu:\n",
      "Kích thước dữ liệu: (200, 7)\n",
      "\n",
      "Năm dòng đầu tiên:\n",
      "   area  rooms  age  floor  distance_to_center         price  high_price\n",
      "0   152      5   41     13            7.006655  3.420715e+05           0\n",
      "1   229      5   25     19            7.985071  1.024769e+06           1\n",
      "2   142      3   34     17            4.647533  5.829498e+05           1\n",
      "3    64      5   49      4            8.436705  5.727407e+04           0\n",
      "4   156      4   24     12            7.712286  4.656036e+05           0\n",
      "\n",
      "Thống kê mô tả:\n",
      "             area       rooms         age       floor  distance_to_center  \\\n",
      "count  200.000000  200.000000  200.000000  200.000000          200.000000   \n",
      "mean   174.995000    2.855000   25.425000   10.125000            5.169353   \n",
      "std     75.042601    1.412071   14.098875    5.646129            2.722569   \n",
      "min     50.000000    1.000000    0.000000    1.000000            0.125691   \n",
      "25%    106.250000    1.000000   14.000000    5.000000            3.346906   \n",
      "50%    178.500000    3.000000   25.000000   10.000000            5.398343   \n",
      "75%    241.250000    4.000000   36.000000   15.000000            7.390271   \n",
      "max    299.000000    5.000000   49.000000   19.000000            9.977157   \n",
      "\n",
      "              price  high_price  \n",
      "count  2.000000e+02  200.000000  \n",
      "mean   5.258764e+05    0.500000  \n",
      "std    2.462853e+05    0.501255  \n",
      "min   -1.932509e+04    0.000000  \n",
      "25%    3.472968e+05    0.000000  \n",
      "50%    5.336525e+05    0.500000  \n",
      "75%    7.148242e+05    1.000000  \n",
      "max    1.085647e+06    1.000000  \n",
      "\n",
      "Kiểm tra giá trị null:\n",
      "area                  0\n",
      "rooms                 0\n",
      "age                   0\n",
      "floor                 0\n",
      "distance_to_center    0\n",
      "price                 0\n",
      "high_price            0\n",
      "dtype: int64\n"
     ]
    }
   ],
   "source": [
    "# Bước 4: Khám phá dữ liệu\n",
    "print(\"\\nThông tin về tập dữ liệu:\")\n",
    "print(f\"Kích thước dữ liệu: {df.shape}\")\n",
    "print(\"\\nNăm dòng đầu tiên:\")\n",
    "print(df.head())\n",
    "\n",
    "print(\"\\nThống kê mô tả:\")\n",
    "print(df.describe())\n",
    "\n",
    "print(\"\\nKiểm tra giá trị null:\")\n",
    "print(df.isnull().sum())"
   ]
  },
  {
   "cell_type": "code",
   "execution_count": 16,
   "id": "2ba86688-e0bf-4fa7-b7e2-1377ba0c4754",
   "metadata": {},
   "outputs": [
    {
     "ename": "NameError",
     "evalue": "name 'threshold' is not defined",
     "output_type": "error",
     "traceback": [
      "\u001b[1;31m---------------------------------------------------------------------------\u001b[0m",
      "\u001b[1;31mNameError\u001b[0m                                 Traceback (most recent call last)",
      "Cell \u001b[1;32mIn[16], line 8\u001b[0m\n\u001b[0;32m      6\u001b[0m plt\u001b[38;5;241m.\u001b[39msubplot(\u001b[38;5;241m2\u001b[39m, \u001b[38;5;241m3\u001b[39m, \u001b[38;5;241m1\u001b[39m)\n\u001b[0;32m      7\u001b[0m sns\u001b[38;5;241m.\u001b[39mhistplot(df[\u001b[38;5;124m'\u001b[39m\u001b[38;5;124mprice\u001b[39m\u001b[38;5;124m'\u001b[39m], kde\u001b[38;5;241m=\u001b[39m\u001b[38;5;28;01mTrue\u001b[39;00m)\n\u001b[1;32m----> 8\u001b[0m plt\u001b[38;5;241m.\u001b[39maxvline(x\u001b[38;5;241m=\u001b[39m\u001b[43mthreshold\u001b[49m, color\u001b[38;5;241m=\u001b[39m\u001b[38;5;124m'\u001b[39m\u001b[38;5;124mred\u001b[39m\u001b[38;5;124m'\u001b[39m, linestyle\u001b[38;5;241m=\u001b[39m\u001b[38;5;124m'\u001b[39m\u001b[38;5;124m--\u001b[39m\u001b[38;5;124m'\u001b[39m, label\u001b[38;5;241m=\u001b[39m\u001b[38;5;124mf\u001b[39m\u001b[38;5;124m'\u001b[39m\u001b[38;5;124mNgưỡng: \u001b[39m\u001b[38;5;132;01m{\u001b[39;00mthreshold\u001b[38;5;132;01m:\u001b[39;00m\u001b[38;5;124m,.0f\u001b[39m\u001b[38;5;132;01m}\u001b[39;00m\u001b[38;5;124m'\u001b[39m)\n\u001b[0;32m      9\u001b[0m plt\u001b[38;5;241m.\u001b[39mtitle(\u001b[38;5;124m'\u001b[39m\u001b[38;5;124mPhân phối của giá nhà\u001b[39m\u001b[38;5;124m'\u001b[39m)\n\u001b[0;32m     10\u001b[0m plt\u001b[38;5;241m.\u001b[39mlegend()\n",
      "\u001b[1;31mNameError\u001b[0m: name 'threshold' is not defined"
     ]
    },
    {
     "data": {
      "image/png": "[encoded data removed]",
      "text/plain": [
       "<Figure size 1400x1000 with 1 Axes>"
      ]
     },
     "metadata": {},
     "output_type": "display_data"
    }
   ],
   "source": [
    "import seaborn as sns  # Thêm dòng import này  \n",
    "# Bước 5: Trực quan hóa dữ liệu\n",
    "plt.figure(figsize=(14, 10))\n",
    "\n",
    "# Histogram của giá nhà với ngưỡng phân loại\n",
    "plt.subplot(2, 3, 1)\n",
    "sns.histplot(df['price'], kde=True)\n",
    "plt.axvline(x=threshold, color='red', linestyle='--', label=f'Ngưỡng: {threshold:,.0f}')\n",
    "plt.title('Phân phối của giá nhà')\n",
    "plt.legend()\n",
    "\n",
    "# Tương quan giữa diện tích và giá với màu phân loại\n",
    "plt.subplot(2, 3, 2)\n",
    "sns.scatterplot(x='area', y='price', hue='high_price', data=df, palette={0: 'blue', 1: 'red'})\n",
    "plt.axhline(y=threshold, color='green', linestyle='--')\n",
    "plt.title('Tương quan giữa diện tích và giá')\n",
    "\n",
    "# Ma trận tương quan\n",
    "plt.subplot(2, 3, 3)\n",
    "corr_matrix = df.drop('price', axis=1).corr()\n",
    "sns.heatmap(corr_matrix, annot=True, cmap='coolwarm', fmt='.2f')\n",
    "plt.title('Ma trận tương quan')\n",
    "\n",
    "# Biểu đồ hộp về giá theo số phòng với màu phân loại\n",
    "plt.subplot(2, 3, 4)\n",
    "sns.boxplot(x='rooms', y='price', hue='high_price', data=df, palette={0: 'blue', 1: 'red'})\n",
    "plt.axhline(y=threshold, color='green', linestyle='--')\n",
    "plt.title('Giá nhà theo số phòng')\n",
    "\n",
    "# Biểu đồ phân tán giữa tuổi và giá\n",
    "plt.subplot(2, 3, 5)\n",
    "sns.scatterplot(x='age', y='price', hue='high_price', data=df, palette={0: 'blue', 1: 'red'})\n",
    "plt.axhline(y=threshold, color='green', linestyle='--')\n",
    "plt.title('Tương quan giữa tuổi nhà và giá')\n",
    "\n",
    "# Biểu đồ phân tán giữa khoảng cách và giá\n",
    "plt.subplot(2, 3, 6)\n",
    "sns.scatterplot(x='distance_to_center', y='price', hue='high_price', data=df, palette={0: 'blue', 1: 'red'})\n",
    "plt.axhline(y=threshold, color='green', linestyle='--')\n",
    "plt.title('Tương quan giữa khoảng cách và giá')\n",
    "\n",
    "plt.tight_layout()\n",
    "plt.show()"
   ]
  },
  {
   "cell_type": "code",
   "execution_count": null,
   "id": "e8abe28e-cff2-4aed-ab03-ceccf41dfe02",
   "metadata": {},
   "outputs": [],
   "source": [
    "# Bước 6: Chuẩn bị dữ liệu cho mô hình"
   ]
  },
  {
   "cell_type": "code",
   "execution_count": 13,
   "id": "c7647184-c3ab-49a3-ae74-8ae5123fa75c",
   "metadata": {},
   "outputs": [
    {
     "ename": "KeyError",
     "evalue": "\"['high_price'] not found in axis\"",
     "output_type": "error",
     "traceback": [
      "\u001b[1;31m---------------------------------------------------------------------------\u001b[0m",
      "\u001b[1;31mKeyError\u001b[0m                                  Traceback (most recent call last)",
      "Cell \u001b[1;32mIn[13], line 1\u001b[0m\n\u001b[1;32m----> 1\u001b[0m X \u001b[38;5;241m=\u001b[39m \u001b[43mdf\u001b[49m\u001b[38;5;241;43m.\u001b[39;49m\u001b[43mdrop\u001b[49m\u001b[43m(\u001b[49m\u001b[43m[\u001b[49m\u001b[38;5;124;43m'\u001b[39;49m\u001b[38;5;124;43mprice\u001b[39;49m\u001b[38;5;124;43m'\u001b[39;49m\u001b[43m,\u001b[49m\u001b[43m \u001b[49m\u001b[38;5;124;43m\"\u001b[39;49m\u001b[38;5;124;43mhigh_price\u001b[39;49m\u001b[38;5;124;43m\"\u001b[39;49m\u001b[43m]\u001b[49m\u001b[43m,\u001b[49m\u001b[43m \u001b[49m\u001b[43maxis\u001b[49m\u001b[38;5;241;43m=\u001b[39;49m\u001b[38;5;241;43m1\u001b[39;49m\u001b[43m)\u001b[49m\n\u001b[0;32m      2\u001b[0m y \u001b[38;5;241m=\u001b[39m df[\u001b[38;5;124m\"\u001b[39m\u001b[38;5;124mhigh_price\u001b[39m\u001b[38;5;124m\"\u001b[39m]\n",
      "File \u001b[1;32mc:\\Users\\MSI\\AppData\\Local\\Programs\\Python\\Python313\\Lib\\site-packages\\pandas\\core\\frame.py:5581\u001b[0m, in \u001b[0;36mDataFrame.drop\u001b[1;34m(self, labels, axis, index, columns, level, inplace, errors)\u001b[0m\n\u001b[0;32m   5433\u001b[0m \u001b[38;5;28;01mdef\u001b[39;00m \u001b[38;5;21mdrop\u001b[39m(\n\u001b[0;32m   5434\u001b[0m     \u001b[38;5;28mself\u001b[39m,\n\u001b[0;32m   5435\u001b[0m     labels: IndexLabel \u001b[38;5;241m|\u001b[39m \u001b[38;5;28;01mNone\u001b[39;00m \u001b[38;5;241m=\u001b[39m \u001b[38;5;28;01mNone\u001b[39;00m,\n\u001b[1;32m   (...)\u001b[0m\n\u001b[0;32m   5442\u001b[0m     errors: IgnoreRaise \u001b[38;5;241m=\u001b[39m \u001b[38;5;124m\"\u001b[39m\u001b[38;5;124mraise\u001b[39m\u001b[38;5;124m\"\u001b[39m,\n\u001b[0;32m   5443\u001b[0m ) \u001b[38;5;241m-\u001b[39m\u001b[38;5;241m>\u001b[39m DataFrame \u001b[38;5;241m|\u001b[39m \u001b[38;5;28;01mNone\u001b[39;00m:\n\u001b[0;32m   5444\u001b[0m \u001b[38;5;250m    \u001b[39m\u001b[38;5;124;03m\"\"\"\u001b[39;00m\n\u001b[0;32m   5445\u001b[0m \u001b[38;5;124;03m    Drop specified labels from rows or columns.\u001b[39;00m\n\u001b[0;32m   5446\u001b[0m \n\u001b[1;32m   (...)\u001b[0m\n\u001b[0;32m   5579\u001b[0m \u001b[38;5;124;03m            weight  1.0     0.8\u001b[39;00m\n\u001b[0;32m   5580\u001b[0m \u001b[38;5;124;03m    \"\"\"\u001b[39;00m\n\u001b[1;32m-> 5581\u001b[0m     \u001b[38;5;28;01mreturn\u001b[39;00m \u001b[38;5;28;43msuper\u001b[39;49m\u001b[43m(\u001b[49m\u001b[43m)\u001b[49m\u001b[38;5;241;43m.\u001b[39;49m\u001b[43mdrop\u001b[49m\u001b[43m(\u001b[49m\n\u001b[0;32m   5582\u001b[0m \u001b[43m        \u001b[49m\u001b[43mlabels\u001b[49m\u001b[38;5;241;43m=\u001b[39;49m\u001b[43mlabels\u001b[49m\u001b[43m,\u001b[49m\n\u001b[0;32m   5583\u001b[0m \u001b[43m        \u001b[49m\u001b[43maxis\u001b[49m\u001b[38;5;241;43m=\u001b[39;49m\u001b[43maxis\u001b[49m\u001b[43m,\u001b[49m\n\u001b[0;32m   5584\u001b[0m \u001b[43m        \u001b[49m\u001b[43mindex\u001b[49m\u001b[38;5;241;43m=\u001b[39;49m\u001b[43mindex\u001b[49m\u001b[43m,\u001b[49m\n\u001b[0;32m   5585\u001b[0m \u001b[43m        \u001b[49m\u001b[43mcolumns\u001b[49m\u001b[38;5;241;43m=\u001b[39;49m\u001b[43mcolumns\u001b[49m\u001b[43m,\u001b[49m\n\u001b[0;32m   5586\u001b[0m \u001b[43m        \u001b[49m\u001b[43mlevel\u001b[49m\u001b[38;5;241;43m=\u001b[39;49m\u001b[43mlevel\u001b[49m\u001b[43m,\u001b[49m\n\u001b[0;32m   5587\u001b[0m \u001b[43m        \u001b[49m\u001b[43minplace\u001b[49m\u001b[38;5;241;43m=\u001b[39;49m\u001b[43minplace\u001b[49m\u001b[43m,\u001b[49m\n\u001b[0;32m   5588\u001b[0m \u001b[43m        \u001b[49m\u001b[43merrors\u001b[49m\u001b[38;5;241;43m=\u001b[39;49m\u001b[43merrors\u001b[49m\u001b[43m,\u001b[49m\n\u001b[0;32m   5589\u001b[0m \u001b[43m    \u001b[49m\u001b[43m)\u001b[49m\n",
      "File \u001b[1;32mc:\\Users\\MSI\\AppData\\Local\\Programs\\Python\\Python313\\Lib\\site-packages\\pandas\\core\\generic.py:4788\u001b[0m, in \u001b[0;36mNDFrame.drop\u001b[1;34m(self, labels, axis, index, columns, level, inplace, errors)\u001b[0m\n\u001b[0;32m   4786\u001b[0m \u001b[38;5;28;01mfor\u001b[39;00m axis, labels \u001b[38;5;129;01min\u001b[39;00m axes\u001b[38;5;241m.\u001b[39mitems():\n\u001b[0;32m   4787\u001b[0m     \u001b[38;5;28;01mif\u001b[39;00m labels \u001b[38;5;129;01mis\u001b[39;00m \u001b[38;5;129;01mnot\u001b[39;00m \u001b[38;5;28;01mNone\u001b[39;00m:\n\u001b[1;32m-> 4788\u001b[0m         obj \u001b[38;5;241m=\u001b[39m \u001b[43mobj\u001b[49m\u001b[38;5;241;43m.\u001b[39;49m\u001b[43m_drop_axis\u001b[49m\u001b[43m(\u001b[49m\u001b[43mlabels\u001b[49m\u001b[43m,\u001b[49m\u001b[43m \u001b[49m\u001b[43maxis\u001b[49m\u001b[43m,\u001b[49m\u001b[43m \u001b[49m\u001b[43mlevel\u001b[49m\u001b[38;5;241;43m=\u001b[39;49m\u001b[43mlevel\u001b[49m\u001b[43m,\u001b[49m\u001b[43m \u001b[49m\u001b[43merrors\u001b[49m\u001b[38;5;241;43m=\u001b[39;49m\u001b[43merrors\u001b[49m\u001b[43m)\u001b[49m\n\u001b[0;32m   4790\u001b[0m \u001b[38;5;28;01mif\u001b[39;00m inplace:\n\u001b[0;32m   4791\u001b[0m     \u001b[38;5;28mself\u001b[39m\u001b[38;5;241m.\u001b[39m_update_inplace(obj)\n",
      "File \u001b[1;32mc:\\Users\\MSI\\AppData\\Local\\Programs\\Python\\Python313\\Lib\\site-packages\\pandas\\core\\generic.py:4830\u001b[0m, in \u001b[0;36mNDFrame._drop_axis\u001b[1;34m(self, labels, axis, level, errors, only_slice)\u001b[0m\n\u001b[0;32m   4828\u001b[0m         new_axis \u001b[38;5;241m=\u001b[39m axis\u001b[38;5;241m.\u001b[39mdrop(labels, level\u001b[38;5;241m=\u001b[39mlevel, errors\u001b[38;5;241m=\u001b[39merrors)\n\u001b[0;32m   4829\u001b[0m     \u001b[38;5;28;01melse\u001b[39;00m:\n\u001b[1;32m-> 4830\u001b[0m         new_axis \u001b[38;5;241m=\u001b[39m \u001b[43maxis\u001b[49m\u001b[38;5;241;43m.\u001b[39;49m\u001b[43mdrop\u001b[49m\u001b[43m(\u001b[49m\u001b[43mlabels\u001b[49m\u001b[43m,\u001b[49m\u001b[43m \u001b[49m\u001b[43merrors\u001b[49m\u001b[38;5;241;43m=\u001b[39;49m\u001b[43merrors\u001b[49m\u001b[43m)\u001b[49m\n\u001b[0;32m   4831\u001b[0m     indexer \u001b[38;5;241m=\u001b[39m axis\u001b[38;5;241m.\u001b[39mget_indexer(new_axis)\n\u001b[0;32m   4833\u001b[0m \u001b[38;5;66;03m# Case for non-unique axis\u001b[39;00m\n\u001b[0;32m   4834\u001b[0m \u001b[38;5;28;01melse\u001b[39;00m:\n",
      "File \u001b[1;32mc:\\Users\\MSI\\AppData\\Local\\Programs\\Python\\Python313\\Lib\\site-packages\\pandas\\core\\indexes\\base.py:7070\u001b[0m, in \u001b[0;36mIndex.drop\u001b[1;34m(self, labels, errors)\u001b[0m\n\u001b[0;32m   7068\u001b[0m \u001b[38;5;28;01mif\u001b[39;00m mask\u001b[38;5;241m.\u001b[39many():\n\u001b[0;32m   7069\u001b[0m     \u001b[38;5;28;01mif\u001b[39;00m errors \u001b[38;5;241m!=\u001b[39m \u001b[38;5;124m\"\u001b[39m\u001b[38;5;124mignore\u001b[39m\u001b[38;5;124m\"\u001b[39m:\n\u001b[1;32m-> 7070\u001b[0m         \u001b[38;5;28;01mraise\u001b[39;00m \u001b[38;5;167;01mKeyError\u001b[39;00m(\u001b[38;5;124mf\u001b[39m\u001b[38;5;124m\"\u001b[39m\u001b[38;5;132;01m{\u001b[39;00mlabels[mask]\u001b[38;5;241m.\u001b[39mtolist()\u001b[38;5;132;01m}\u001b[39;00m\u001b[38;5;124m not found in axis\u001b[39m\u001b[38;5;124m\"\u001b[39m)\n\u001b[0;32m   7071\u001b[0m     indexer \u001b[38;5;241m=\u001b[39m indexer[\u001b[38;5;241m~\u001b[39mmask]\n\u001b[0;32m   7072\u001b[0m \u001b[38;5;28;01mreturn\u001b[39;00m \u001b[38;5;28mself\u001b[39m\u001b[38;5;241m.\u001b[39mdelete(indexer)\n",
      "\u001b[1;31mKeyError\u001b[0m: \"['high_price'] not found in axis\""
     ]
    }
   ],
   "source": [
    "X = df.drop(['price', \"high_price\"], axis=1)\n",
    "y = df[\"high_price\"]"
   ]
  },
  {
   "cell_type": "code",
   "execution_count": 13,
   "id": "de4346ec-f59a-44b5-8160-201186cbb7e6",
   "metadata": {},
   "outputs": [
    {
     "name": "stdout",
     "output_type": "stream",
     "text": [
      "\n",
      "Kích thước tập huấn luyện: (160, 5)\n",
      "Kích thước tập kiểm tra: (40, 5)\n"
     ]
    }
   ],
   "source": [
    "# Phân chia dữ liệu thành tập huấn luyện và tập kiểm tra\n",
    "X_train, X_test, y_train, y_test = train_test_split(X, y, test_size=0.2, random_state=42, stratify=y)\n",
    "print(f\"\\nKích thước tập huấn luyện: {X_train.shape}\")\n",
    "print(f\"Kích thước tập kiểm tra: {X_test.shape}\")"
   ]
  },
  {
   "cell_type": "code",
   "execution_count": 14,
   "id": "b77750c0-54e9-470f-b91b-5b4f818d458e",
   "metadata": {},
   "outputs": [],
   "source": [
    "# Chuẩn hóa dữ liệu\n",
    "scaler = StandardScaler()\n",
    "X_train_scaled = scaler.fit_transform(X_train)\n",
    "X_test_scaled = scaler.transform(X_test)"
   ]
  },
  {
   "cell_type": "code",
   "execution_count": 19,
   "id": "2a96e4ac-2cff-40a7-892e-c8d3b7a0affa",
   "metadata": {},
   "outputs": [
    {
     "name": "stdout",
     "output_type": "stream",
     "text": [
      "\n",
      "Hệ số hồi quy logistic (đã chuẩn hóa):\n",
      "            Đặc trưng     Hệ số\n",
      "0                area  2.744885\n",
      "1               rooms  0.382807\n",
      "3               floor  0.335029\n",
      "4  distance_to_center -0.400958\n",
      "2                 age -0.401649\n",
      "Hệ số chặn (Intercept): -0.0838\n"
     ]
    }
   ],
   "source": [
    "# Bước 7: Xây dựng và huấn luyện mô hình Logistic Regression\n",
    "model = LogisticRegression(max_iter=1000, random_state=42)\n",
    "model.fit(X_train_scaled, y_train)\n",
    "\n",
    "# Bước 8: Kiểm tra hệ số hồi quy\n",
    "coef_df = pd.DataFrame({\n",
    "    'Đặc trưng': X.columns,\n",
    "    'Hệ số': model.coef_[0]\n",
    "})\n",
    "print(\"\\nHệ số hồi quy logistic (đã chuẩn hóa):\")\n",
    "print(coef_df.sort_values(by='Hệ số', ascending=False))\n",
    "print(f\"Hệ số chặn (Intercept): {model.intercept_[0]:.4f}\")"
   ]
  },
  {
   "cell_type": "code",
   "execution_count": 20,
   "id": "57b68341-7a25-4935-8de8-a2aad6c3b95f",
   "metadata": {},
   "outputs": [
    {
     "name": "stdout",
     "output_type": "stream",
     "text": [
      "\n",
      "Đánh giá mô hình:\n",
      "Độ chính xác (Accuracy): 0.9500\n",
      "\n",
      "Ma trận nhầm lẫn:\n",
      "[[20  0]\n",
      " [ 2 18]]\n",
      "\n",
      "Báo cáo phân loại:\n",
      "              precision    recall  f1-score   support\n",
      "\n",
      "           0       0.91      1.00      0.95        20\n",
      "           1       1.00      0.90      0.95        20\n",
      "\n",
      "    accuracy                           0.95        40\n",
      "   macro avg       0.95      0.95      0.95        40\n",
      "weighted avg       0.95      0.95      0.95        40\n",
      "\n"
     ]
    }
   ],
   "source": [
    "# Bước 9: Dự đoán và đánh giá mô hình\n",
    "y_pred = model.predict(X_test_scaled)\n",
    "y_pred_proba = model.predict_proba(X_test_scaled)[:, 1]\n",
    "\n",
    "# Tính các chỉ số đánh giá\n",
    "accuracy = accuracy_score(y_test, y_pred)\n",
    "conf_matrix = confusion_matrix(y_test, y_pred)\n",
    "\n",
    "print(\"\\nĐánh giá mô hình:\")\n",
    "print(f\"Độ chính xác (Accuracy): {accuracy:.4f}\")\n",
    "print(\"\\nMa trận nhầm lẫn:\")\n",
    "print(conf_matrix)\n",
    "print(\"\\nBáo cáo phân loại:\")\n",
    "print(classification_report(y_test, y_pred))"
   ]
  },
  {
   "cell_type": "code",
   "execution_count": 21,
   "id": "d7cac588-a5a2-4364-b02b-b3cac1fe195c",
   "metadata": {},
   "outputs": [
    {
     "data": {
      "text/plain": [
       "Text(0.5, 1.0, 'Ma trận nhầm lẫn')"
      ]
     },
     "execution_count": 21,
     "metadata": {},
     "output_type": "execute_result"
    },
    {
     "data": {
      "image/png": "[encoded data removed]",
      "text/plain": [
       "<Figure size 1400x1000 with 2 Axes>"
      ]
     },
     "metadata": {},
     "output_type": "display_data"
    }
   ],
   "source": [
    "# Bước 10: Trực quan hóa kết quả\n",
    "plt.figure(figsize=(14, 10))\n",
    "\n",
    "# Ma trận nhầm lẫn\n",
    "plt.subplot(2, 2, 1)\n",
    "sns.heatmap(conf_matrix, annot=True, fmt='d', cmap='Blues', \n",
    "            xticklabels=['Giá thấp', 'Giá cao'], \n",
    "            yticklabels=['Giá thấp', 'Giá cao'])\n",
    "plt.ylabel('Giá trị thực tế')\n",
    "plt.xlabel('Giá trị dự đoán')\n",
    "plt.title('Ma trận nhầm lẫn')"
   ]
  },
  {
   "cell_type": "code",
   "execution_count": 22,
   "id": "1bf45815-521d-43ba-8ace-59f981dbb392",
   "metadata": {},
   "outputs": [
    {
     "data": {
      "image/png": "[encoded data removed]",
      "text/plain": [
       "<Figure size 640x480 with 3 Axes>"
      ]
     },
     "metadata": {},
     "output_type": "display_data"
    }
   ],
   "source": [
    "# Đường cong ROC\n",
    "plt.subplot(2, 2, 2)\n",
    "fpr, tpr, _ = roc_curve(y_test, y_pred_proba)\n",
    "roc_auc = auc(fpr, tpr)\n",
    "plt.plot(fpr, tpr, color='darkorange', lw=2, label=f'ROC curve (AUC = {roc_auc:.2f})')\n",
    "plt.plot([0, 1], [0, 1], color='navy', lw=2, linestyle='--')\n",
    "plt.xlabel('False Positive Rate')\n",
    "plt.ylabel('True Positive Rate')\n",
    "plt.title('Đường cong ROC')\n",
    "plt.legend(loc='lower right')\n",
    "plt.grid(True)\n",
    "\n",
    "# Phân tích hệ số\n",
    "plt.subplot(2, 2, 3)\n",
    "coef_df_sorted = coef_df.sort_values(by='Hệ số')\n",
    "sns.barplot(x='Hệ số', y='Đặc trưng', data=coef_df_sorted)\n",
    "plt.title('Hệ số của các đặc trưng trong mô hình')\n",
    "plt.grid(True)\n",
    "\n",
    "# Phân phối xác suất dự đoán\n",
    "plt.subplot(2, 2, 4)\n",
    "sns.histplot(y_pred_proba, bins=20, kde=True)\n",
    "plt.axvline(x=0.5, color='red', linestyle='--', label='Ngưỡng quyết định')\n",
    "plt.xlabel('Xác suất dự đoán nhà có giá cao')\n",
    "plt.ylabel('Số lượng')\n",
    "plt.title('Phân phối xác suất dự đoán')\n",
    "plt.legend()\n",
    "plt.grid(True)\n",
    "\n",
    "plt.tight_layout()\n",
    "plt.show()"
   ]
  },
  {
   "cell_type": "code",
   "execution_count": 24,
   "id": "8d2a06e3-f3ab-43c5-8c7d-21f5722dcbf8",
   "metadata": {},
   "outputs": [
    {
     "name": "stdout",
     "output_type": "stream",
     "text": [
      "\n",
      "Kết quả lựa chọn đặc trưng:\n",
      "            Đặc trưng   Chọn  Thứ hạng\n",
      "0                area   True         1\n",
      "2                 age   True         1\n",
      "4  distance_to_center   True         1\n",
      "1               rooms  False         2\n",
      "3               floor  False         3\n"
     ]
    }
   ],
   "source": [
    "# Bước 11: Lựa chọn đặc trưng\n",
    "# Sử dụng RFE (Recursive Feature Elimination) để chọn đặc trưng\n",
    "rfe = RFE(estimator=LogisticRegression(max_iter=1000, random_state=42), n_features_to_select=3)\n",
    "rfe.fit(X_train_scaled, y_train)\n",
    "\n",
    "print(\"\\nKết quả lựa chọn đặc trưng:\")\n",
    "result = pd.DataFrame({\n",
    "    'Đặc trưng': X.columns,\n",
    "    'Chọn': rfe.support_,\n",
    "    'Thứ hạng': rfe.ranking_\n",
    "})\n",
    "print(result.sort_values('Thứ hạng'))"
   ]
  },
  {
   "cell_type": "code",
   "execution_count": 25,
   "id": "ec4c5d9b-775a-44aa-8a63-9f3434a3acba",
   "metadata": {},
   "outputs": [
    {
     "name": "stdout",
     "output_type": "stream",
     "text": [
      "\n",
      "Các đặc trưng được chọn: ['area', 'age', 'distance_to_center']\n",
      "\n",
      "Đánh giá mô hình với các đặc trưng đã chọn:\n",
      "Độ chính xác (Accuracy): 0.9000\n",
      "\n",
      "Báo cáo phân loại:\n",
      "              precision    recall  f1-score   support\n",
      "\n",
      "           0       0.90      0.90      0.90        20\n",
      "           1       0.90      0.90      0.90        20\n",
      "\n",
      "    accuracy                           0.90        40\n",
      "   macro avg       0.90      0.90      0.90        40\n",
      "weighted avg       0.90      0.90      0.90        40\n",
      "\n"
     ]
    }
   ],
   "source": [
    "# Bước 12: Xây dựng mô hình mới chỉ với các đặc trưng được chọn\n",
    "selected_features = X.columns[rfe.support_].tolist()\n",
    "print(f\"\\nCác đặc trưng được chọn: {selected_features}\")\n",
    "\n",
    "X_train_selected = X_train[selected_features]\n",
    "X_test_selected = X_test[selected_features]\n",
    "\n",
    "# Chuẩn hóa lại\n",
    "scaler_selected = StandardScaler()\n",
    "X_train_selected_scaled = scaler_selected.fit_transform(X_train_selected)\n",
    "X_test_selected_scaled = scaler_selected.transform(X_test_selected)\n",
    "\n",
    "# Huấn luyện mô hình mới\n",
    "# Bước 13: So sánh với mô hình ban đầu\n",
    "print(\"\\nSo sánh các mô hình:\")\n",
    "comparison = pd.DataFrame({\n",
    "    'Mô hình': ['Tất cả đặc trưng', 'Đặc trưng đã chọn'],\n",
    "    'Độ chính xác': [accuracy, accuracy_selected],\n",
    "})\n",
    "print(comparison) = LogisticRegression(max_iter=1000, random_state=42)\n",
    "model_selected.fit(X_train_selected_scaled, y_train)\n",
    "\n",
    "# Dự đoán và đánh giá\n",
    "y_pred_selected = model_selected.predict(X_test_selected_scaled)\n",
    "accuracy_selected = accuracy_score(y_test, y_pred_selected)\n",
    "\n",
    "print(\"\\nĐánh giá mô hình với các đặc trưng đã chọn:\")\n",
    "print(f\"Độ chính xác (Accuracy): {accuracy_selected:.4f}\")\n",
    "print(\"\\nBáo cáo phân loại:\")\n",
    "print(classification_report(y_test, y_pred_selected))"
   ]
  },
  {
   "cell_type": "code",
   "execution_count": 26,
   "id": "2c44e002-2253-4aeb-8333-770ceb1e77c2",
   "metadata": {},
   "outputs": [
    {
     "name": "stdout",
     "output_type": "stream",
     "text": [
      "\n",
      "So sánh các mô hình:\n",
      "             Mô hình  Độ chính xác\n",
      "0   Tất cả đặc trưng          0.95\n",
      "1  Đặc trưng đã chọn          0.90\n"
     ]
    }
   ],
   "source": [
    "# Bước 13: So sánh với mô hình ban đầu\n",
    "print(\"\\nSo sánh các mô hình:\")\n",
    "comparison = pd.DataFrame({\n",
    "    'Mô hình': ['Tất cả đặc trưng', 'Đặc trưng đã chọn'],\n",
    "    'Độ chính xác': [accuracy, accuracy_selected],\n",
    "})\n",
    "print(comparison)"
   ]
  },
  {
   "cell_type": "code",
   "execution_count": 27,
   "id": "2dca0b86-b4b5-4103-960c-e1d068ce654e",
   "metadata": {},
   "outputs": [
    {
     "name": "stdout",
     "output_type": "stream",
     "text": [
      "\n",
      "Thử nghiệm mô hình với dữ liệu mới:\n",
      "Thông tin căn nhà mẫu:\n",
      "   area  rooms  age  floor  distance_to_center\n",
      "0   120      3    5     10                 2.5\n",
      "\n",
      "Xác suất nhà có giá cao: 0.2418 (24.18%)\n",
      "Xác suất nhà có giá thấp: 0.7582 (75.82%)\n",
      "Dự đoán: Nhà có giá THẤP (≤ 533,652.52)\n"
     ]
    }
   ],
   "source": [
    "# Bước 14: Thử nghiệm mô hình với dữ liệu mới\n",
    "print(\"\\nThử nghiệm mô hình với dữ liệu mới:\")\n",
    "# Tạo một căn nhà mẫu để dự đoán\n",
    "new_house = pd.DataFrame({\n",
    "    'area': [120],\n",
    "    'rooms': [3],\n",
    "    'age': [5],\n",
    "    'floor': [10],\n",
    "    'distance_to_center': [2.5]\n",
    "})\n",
    "print(\"Thông tin căn nhà mẫu:\")\n",
    "print(new_house)\n",
    "\n",
    "# Chuẩn hóa dữ liệu mới\n",
    "new_house_scaled = scaler.transform(new_house)\n",
    "predicted_proba = model.predict_proba(new_house_scaled)[0]\n",
    "predicted_class = model.predict(new_house_scaled)[0]\n",
    "\n",
    "# Đưa ra dự đoán\n",
    "print(f\"\\nXác suất nhà có giá cao: {predicted_proba[1]:.4f} ({predicted_proba[1]*100:.2f}%)\")\n",
    "print(f\"Xác suất nhà có giá thấp: {predicted_proba[0]:.4f} ({predicted_proba[0]*100:.2f}%)\")\n",
    "if predicted_class == 1:\n",
    "    print(\"Dự đoán: Nhà có giá CAO (> {threshold:,.2f})\")\n",
    "else:\n",
    "    print(f\"Dự đoán: Nhà có giá THẤP (≤ {threshold:,.2f})\")"
   ]
  },
  {
   "cell_type": "code",
   "execution_count": 30,
   "id": "9c9c8963-6d54-42c0-8a98-40c8d2c6ab00",
   "metadata": {},
   "outputs": [
    {
     "name": "stdout",
     "output_type": "stream",
     "text": [
      "\n",
      "Đã lưu mô hình vào 'house_price_logistic_model.pkl', bộ chuẩn hóa vào 'house_price_logistic_scaler.pkl',\n",
      "và ngưỡng phân loại vào 'house_price_threshold.pkl'\n",
      "Để sử dụng mô hình sau này:\n"
     ]
    }
   ],
   "source": [
    "# Bước 15: Lưu mô hình để sử dụng sau này\n",
    "import joblib\n",
    "\n",
    "# Lưu mô hình, bộ chuẩn hóa và ngưỡng phân loại\n",
    "joblib.dump(model, 'house_price_logistic_model.pkl')\n",
    "joblib.dump(scaler, 'house_price_logistic_scaler.pkl')\n",
    "joblib.dump(threshold, 'house_price_threshold.pkl')\n",
    "\n",
    "print(\"\\nĐã lưu mô hình vào 'house_price_logistic_model.pkl', bộ chuẩn hóa vào 'house_price_logistic_scaler.pkl',\")\n",
    "print(\"và ngưỡng phân loại vào 'house_price_threshold.pkl'\")\n",
    "print(\"Để sử dụng mô hình sau này:\")\n",
    "\n",
    "model = joblib.load('house_price_logistic_model.pkl')\n",
    "scaler = joblib.load('house_price_logistic_scaler.pkl')\n",
    "threshold = joblib.load('house_price_threshold.pkl')"
   ]
  },
  {
   "cell_type": "code",
   "execution_count": 31,
   "id": "6e20f922-450b-427a-8184-6156fca7ceab",
   "metadata": {},
   "outputs": [
    {
     "name": "stdout",
     "output_type": "stream",
     "text": [
      "Xác suất nhà có giá cao: 0.2418 (24.18%)\n",
      "Dự đoán: Nhà có giá THẤP (≤ 533,652.52)\n"
     ]
    }
   ],
   "source": [
    "# Chuẩn bị dữ liệu mới\n",
    "new_data = pd.DataFrame({\n",
    "    'area': [120],\n",
    "    'rooms': [3],\n",
    "    'age': [5],\n",
    "    'floor': [10],\n",
    "    'distance_to_center': [2.5]\n",
    "})\n",
    "\n",
    "# Chuẩn hóa và dự đoán\n",
    "new_data_scaled = scaler.transform(new_data)\n",
    "predicted_proba = model.predict_proba(new_data_scaled)[0]\n",
    "predicted_class = model.predict(new_data_scaled)[0]\n",
    "\n",
    "# Đưa ra dự đoán\n",
    "print(f\"Xác suất nhà có giá cao: {predicted_proba[1]:.4f} ({predicted_proba[1]*100:.2f}%)\")\n",
    "if predicted_class == 1:\n",
    "    print(f\"Dự đoán: Nhà có giá CAO (> {threshold:,.2f})\")\n",
    "else:\n",
    "    print(f\"Dự đoán: Nhà có giá THẤP (≤ {threshold:,.2f})\")"
   ]
  }
 ],
 "metadata": {
  "kernelspec": {
   "display_name": "Python 3",
   "language": "python",
   "name": "python3"
  },
  "language_info": {
   "codemirror_mode": {
    "name": "ipython",
    "version": 3
   },
   "file_extension": ".py",
   "mimetype": "text/x-python",
   "name": "python",
   "nbconvert_exporter": "python",
   "pygments_lexer": "ipython3",
   "version": "3.13.2"
  }
 },
 "nbformat": 4,
 "nbformat_minor": 5
}
