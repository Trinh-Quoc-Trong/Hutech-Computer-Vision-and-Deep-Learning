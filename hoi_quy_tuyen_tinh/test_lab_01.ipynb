{
 "cells": [
  {
   "cell_type": "code",
   "execution_count": 1,
   "metadata": {},
   "outputs": [],
   "source": [
    "import numpy as np  \n",
    "\n",
    "# Dữ liệu đầu vào (nhiều biến)  \n",
    "# Ví dụ: diện tích, số phòng, vị trí  \n",
    "X = np.array([  \n",
    "    [50, 2, 1],   # diện tích, số phòng, vị trí  \n",
    "    [70, 3, 2],   \n",
    "    [80, 2, 1],   \n",
    "    [100, 4, 3],   \n",
    "    [120, 3, 2]  \n",
    "])  \n"
   ]
  },
  {
   "cell_type": "code",
   "execution_count": 3,
   "metadata": {},
   "outputs": [
    {
     "data": {
      "text/plain": [
       "array([200, 270, 300, 370, 450])"
      ]
     },
     "execution_count": 3,
     "metadata": {},
     "output_type": "execute_result"
    }
   ],
   "source": [
    "\n",
    "# Giá nhà (biến mục tiêu)  \n",
    "y = np.array([200, 270, 300, 370, 450])  \n",
    "y"
   ]
  },
  {
   "cell_type": "code",
   "execution_count": 4,
   "metadata": {},
   "outputs": [
    {
     "data": {
      "text/plain": [
       "array([[  1.,  50.,   2.,   1.],\n",
       "       [  1.,  70.,   3.,   2.],\n",
       "       [  1.,  80.,   2.,   1.],\n",
       "       [  1., 100.,   4.,   3.],\n",
       "       [  1., 120.,   3.,   2.]])"
      ]
     },
     "execution_count": 4,
     "metadata": {},
     "output_type": "execute_result"
    }
   ],
   "source": [
    "\n",
    "# Thêm cột 1 để tính intercept  \n",
    "X_with_intercept = np.column_stack((np.ones(X.shape[0]), X))  \n",
    "X_with_intercept"
   ]
  },
  {
   "cell_type": "code",
   "execution_count": null,
   "metadata": {},
   "outputs": [],
   "source": [
    "\n",
    "# Tính toán hệ số sử dụng công thức bình phương nhỏ nhất (Ordinary Least Squares)  \n",
    "# Công thức: β = (X^T * X)^-1 * X^T * y  \n",
    "# X^T: chuyển vị ma trận X  \n",
    "# (X^T * X)^-1: ma trận nghịch đảo của (X^T * X)  \n",
    "\n",
    "# Bước 1: Tính X^T (chuyển vị ma trận)  \n",
    "X_transpose = X_with_intercept.T  \n"
   ]
  },
  {
   "cell_type": "code",
   "execution_count": null,
   "metadata": {},
   "outputs": [],
   "source": [
    "\n",
    "# Bước 2: Nhân X^T * X  \n",
    "X_transpose_X = np.dot(X_transpose, X_with_intercept)  \n"
   ]
  },
  {
   "cell_type": "code",
   "execution_count": null,
   "metadata": {},
   "outputs": [],
   "source": [
    "\n",
    "# Bước 3: Tính ma trận nghịch đảo của (X^T * X)  \n",
    "X_transpose_X_inv = np.linalg.inv(X_transpose_X)  \n"
   ]
  },
  {
   "cell_type": "code",
   "execution_count": null,
   "metadata": {},
   "outputs": [],
   "source": [
    "\n",
    "# Bước 4: Nhân (X^T * X)^-1 * X^T * y  \n",
    "# Tính X^T * y trước  \n",
    "X_transpose_y = np.dot(X_transpose, y)  \n"
   ]
  },
  {
   "cell_type": "code",
   "execution_count": null,
   "metadata": {},
   "outputs": [],
   "source": [
    "\n",
    "# Tính hệ số hồi quy (beta)  \n",
    "beta = np.dot(X_transpose_X_inv, X_transpose_y)  \n"
   ]
  },
  {
   "cell_type": "code",
   "execution_count": null,
   "metadata": {},
   "outputs": [],
   "source": [
    "\n",
    "# In ra các hệ số  \n",
    "print(\"Intercept:\", beta[0])  \n",
    "print(\"Hệ số cho các biến:\")  \n",
    "for i, coef in enumerate(beta[1:], 1):  \n",
    "    print(f\"Biến {i}: {coef}\")  \n",
    "\n",
    "# Hàm dự đoán  \n",
    "def predict(X_new):  \n",
    "    # Thêm cột 1 cho intercept  \n",
    "    X_new_with_intercept = np.column_stack((np.ones(X_new.shape[0]), X_new))  \n",
    "    return np.dot(X_new_with_intercept, beta)  \n",
    "\n",
    "# Dự đoán giá trị  \n",
    "predictions = predict(X)  \n",
    "\n",
    "# Tính toán lỗi bình phương trung bình (MSE)  \n",
    "mse = np.mean((y - predictions) ** 2)  \n",
    "print(f\"Lỗi bình phương trung bình (MSE): {mse}\")  \n",
    "\n",
    "# Ví dụ dự đoán cho dữ liệu mới  \n",
    "new_data = np.array([  \n",
    "    [90, 3, 2],   # diện tích, số phòng, vị trí  \n",
    "    [110, 4, 3]  \n",
    "])  \n",
    "new_predictions = predict(new_data)  \n",
    "print(\"\\nDự đoán giá cho dữ liệu mới:\")  \n",
    "print(new_predictions)  "
   ]
  }
 ],
 "metadata": {
  "kernelspec": {
   "display_name": "Python 3",
   "language": "python",
   "name": "python3"
  },
  "language_info": {
   "codemirror_mode": {
    "name": "ipython",
    "version": 3
   },
   "file_extension": ".py",
   "mimetype": "text/x-python",
   "name": "python",
   "nbconvert_exporter": "python",
   "pygments_lexer": "ipython3",
   "version": "3.13.2"
  }
 },
 "nbformat": 4,
 "nbformat_minor": 2
}
