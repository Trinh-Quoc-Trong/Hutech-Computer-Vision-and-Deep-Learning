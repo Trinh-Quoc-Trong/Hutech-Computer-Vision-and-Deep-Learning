{
 "cells": [
  {
   "cell_type": "code",
   "execution_count": 3,
   "metadata": {},
   "outputs": [
    {
     "name": "stdout",
     "output_type": "stream",
     "text": [
      "ai la nguoi dep trai nhat: trong\n"
     ]
    }
   ],
   "source": [
    "class nguoi:\n",
    "    def __init__(self, ten, tuoi, kich_thuoc, nguoi_yeu):\n",
    "        self.ten = ten\n",
    "        self.tuoi = tuoi\n",
    "        self.kich_thuoc = kich_thuoc\n",
    "        self.nguoi_yeu = nguoi_yeu\n",
    "    def in_ra(self):\n",
    "        return self.ten +\" dep tai vl\"\n",
    "\n",
    "nguoi_dep_trai = nguoi(\"trong\", \"20\", \"dai 3 met\", \"hoa hau\")\n",
    "print(\"ai la nguoi dep trai nhat:\", nguoi_dep_trai.ten)"
   ]
  },
  {
   "cell_type": "code",
   "execution_count": null,
   "metadata": {},
   "outputs": [],
   "source": []
  }
 ],
 "metadata": {
  "kernelspec": {
   "display_name": "Python 3",
   "language": "python",
   "name": "python3"
  },
  "language_info": {
   "codemirror_mode": {
    "name": "ipython",
    "version": 3
   },
   "file_extension": ".py",
   "mimetype": "text/x-python",
   "name": "python",
   "nbconvert_exporter": "python",
   "pygments_lexer": "ipython3",
   "version": "3.13.2"
  }
 },
 "nbformat": 4,
 "nbformat_minor": 2
}
