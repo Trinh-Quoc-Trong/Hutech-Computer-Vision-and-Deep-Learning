{
 "cells": [
  {
   "cell_type": "code",
   "execution_count": null,
   "metadata": {},
   "outputs": [
    {
     "name": "stdout",
     "output_type": "stream",
     "text": [
      "Ma trận gốc:\n",
      "[[5 2 4 6 0]\n",
      " [1 6 1 0 6]\n",
      " [7 7 1 6 7]\n",
      " [7 1 4 6 0]\n",
      " [0 2 7 0 1]]\n",
      "\n",
      "Kernel:\n",
      "[[ 2 -1  1]\n",
      " [-1  0  1]\n",
      " [ 1  2  1]]\n",
      "\n",
      "Kết quả tích chập (giữ nguyên kích thước):\n",
      "[[10. 13. 12.  3.  6.]\n",
      " [24. 34. 15. 27. 32.]\n",
      " [27.  4. 25. 30. -6.]\n",
      " [ 3. 16. 40.  7.  1.]\n",
      " [-4. 24.  2. -4. 12.]]\n"
     ]
    }
   ],
   "source": [
    "\n",
    "import numpy as np\n",
    "\n",
    "def convolution_with_zero_padding(matrix, kernel):\n",
    "\n",
    "\n",
    "    if not isinstance(matrix, np.ndarray) or not isinstance(kernel, np.ndarray):\n",
    "        raise ValueError(\"Đầu vào phải là numpy array\")\n",
    "    \n",
    "\n",
    "    matrix_height, matrix_width = matrix.shape\n",
    "    kernel_height, kernel_width = kernel.shape\n",
    "\n",
    "    pad_height = kernel_height // 2\n",
    "    pad_width = kernel_width // 2\n",
    "    \n",
    "    padded_matrix = np.pad(\n",
    "        matrix,\n",
    "        pad_width=((pad_height, pad_height), (pad_width, pad_width)),\n",
    "        mode='constant',\n",
    "        constant_values=0\n",
    "    )\n",
    "    \n",
    "    output = np.zeros((matrix_height, matrix_width))\n",
    "    \n",
    "    for i in range(matrix_height):\n",
    "        for j in range(matrix_width):\n",
    "            matrix_patch = padded_matrix[i:i+kernel_height, j:j+kernel_width]\n",
    "            \n",
    "            output[i, j] = np.sum(matrix_patch * kernel)\n",
    "    \n",
    "    return output\n",
    "\n",
    "matrix = np.array([\n",
    "    [5, 2, 4, 6, 0],\n",
    "    [1, 6, 1, 0, 6],\n",
    "    [7, 7, 1, 6, 7],\n",
    "    [7, 1, 4, 6, 0],\n",
    "    [0, 2, 7, 0, 1]\n",
    "])\n",
    "\n",
    "kernel = np.array([\n",
    "    [2, -1, 1],\n",
    "    [-1, 0, 1],\n",
    "    [1, 2, 1],\n",
    "])\n",
    "\n",
    "result = convolution_with_zero_padding(matrix, kernel)\n",
    "\n",
    "print(\"Ma trận gốc:\")\n",
    "print(matrix)\n",
    "print(\"\\nKernel:\")\n",
    "print(kernel)\n",
    "print(\"\\nKết quả tích chập (giữ nguyên kích thước):\")\n",
    "print(result)\n"
   ]
  },
  {
   "cell_type": "code",
   "execution_count": null,
   "metadata": {},
   "outputs": [],
   "source": []
  }
 ],
 "metadata": {
  "kernelspec": {
   "display_name": "Python 3",
   "language": "python",
   "name": "python3"
  },
  "language_info": {
   "codemirror_mode": {
    "name": "ipython",
    "version": 3
   },
   "file_extension": ".py",
   "mimetype": "text/x-python",
   "name": "python",
   "nbconvert_exporter": "python",
   "pygments_lexer": "ipython3",
   "version": "3.13.2"
  }
 },
 "nbformat": 4,
 "nbformat_minor": 2
}
