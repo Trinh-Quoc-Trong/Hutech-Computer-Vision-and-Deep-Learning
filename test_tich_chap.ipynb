{
 "cells": [
  {
   "cell_type": "code",
   "execution_count": null,
   "metadata": {},
   "outputs": [],
   "source": [
    "import numpy as np  \n",
    "\n",
    "def convolution_2d_with_padding(matrix, kernel, padding=0):  \n",
    "\n",
    "    if not isinstance(matrix, np.ndarray) or not isinstance(kernel, np.ndarray):  \n",
    "        raise ValueError(\"Đầu vào phải là numpy array\")  \n",
    "    \n",
    "    matrix_height, matrix_width = matrix.shape  \n",
    "    kernel_height, kernel_width = kernel.shape  \n",
    "    \n",
    "    padded_matrix = np.pad(  \n",
    "        matrix,   \n",
    "        pad_width=((padding, padding), (padding, padding)),   \n",
    "        mode='constant',   \n",
    "        constant_values=0  \n",
    "    )  \n",
    "    \n",
    "    output_height = matrix_height  \n",
    "    output_width = matrix_width  \n",
    "    output = np.zeros((output_height, output_width))  \n",
    "    \n",
    "    for i in range(output_height):  \n",
    "        for j in range(output_width):  \n",
    "            matrix_patch = padded_matrix[i:i+kernel_height, j:j+kernel_width]  \n",
    "            \n",
    "            output[i, j] = np.sum(matrix_patch * kernel)  \n",
    "    \n",
    "    return output  "
   ]
  },
  {
   "cell_type": "code",
   "execution_count": null,
   "metadata": {},
   "outputs": [],
   "source": [
    "matrix = np.array([  \n",
    "    [5, 2, 4, 6, 0],  \n",
    "    [1, 6, 1, 0, 6],  \n",
    "    [7, 7, 1, 6, 7],  \n",
    "    [7, 1, 4, 6, 0],\n",
    "    [0, 2, 7, 0, 1]  \n",
    "])  \n",
    "\n",
    "kernel = np.array([  \n",
    "    [2, -1, 1],  \n",
    "    [1, 2, 1],  \n",
    "    [-1, 0, 1],\n",
    "])  \n"
   ]
  },
  {
   "cell_type": "code",
   "execution_count": null,
   "metadata": {},
   "outputs": [
    {
     "ename": "NameError",
     "evalue": "name 'sobel_horizontal' is not defined",
     "output_type": "error",
     "traceback": [
      "\u001b[1;31m---------------------------------------------------------------------------\u001b[0m",
      "\u001b[1;31mNameError\u001b[0m                                 Traceback (most recent call last)",
      "Cell \u001b[1;32mIn[15], line 2\u001b[0m\n\u001b[0;32m      1\u001b[0m \u001b[38;5;66;03m# Thực hiện tích chập với padding = 1  \u001b[39;00m\n\u001b[1;32m----> 2\u001b[0m result_with_padding \u001b[38;5;241m=\u001b[39m convolution_2d_with_padding(matrix, \u001b[43msobel_horizontal\u001b[49m, padding\u001b[38;5;241m=\u001b[39m\u001b[38;5;241m1\u001b[39m)  \n\u001b[0;32m      4\u001b[0m \u001b[38;5;28mprint\u001b[39m(\u001b[38;5;124m\"\u001b[39m\u001b[38;5;124mMa trận gốc:\u001b[39m\u001b[38;5;124m\"\u001b[39m)  \n\u001b[0;32m      5\u001b[0m \u001b[38;5;28mprint\u001b[39m(matrix)  \n",
      "\u001b[1;31mNameError\u001b[0m: name 'sobel_horizontal' is not defined"
     ]
    }
   ],
   "source": [
    "\n",
    "result_with_padding = convolution_2d_with_padding(matrix, sobel_horizontal, padding=1)  \n",
    "\n",
    "print(\"Ma trận gốc:\")  \n",
    "print(matrix)  \n",
    "print(\"\\nKernel Sobel ngang:\")  \n",
    "print(sobel_horizontal)  \n",
    "print(\"\\nKết quả tích chập (padding = 1):\")  \n",
    "print(result_with_padding)  \n",
    "\n",
    "# Ví dụ với padding khác nhau  \n",
    "print(\"\\nVí dụ về ảnh hưởng của padding:\")  \n",
    "results = {  \n",
    "    'Không padding': convolution_2d_with_padding(matrix, sobel_horizontal, padding=0),  \n",
    "    'Padding 1': convolution_2d_with_padding(matrix, sobel_horizontal, padding=1),  \n",
    "    'Padding 2': convolution_2d_with_padding(matrix, sobel_horizontal, padding=2)  \n",
    "}  \n",
    "\n",
    "for padding_type, result in results.items():  \n",
    "    print(f\"\\n{padding_type}:\")  \n",
    "    print(result)  "
   ]
  },
  {
   "cell_type": "code",
   "execution_count": null,
   "metadata": {},
   "outputs": [],
   "source": []
  }
 ],
 "metadata": {
  "kernelspec": {
   "display_name": "Python 3",
   "language": "python",
   "name": "python3"
  },
  "language_info": {
   "codemirror_mode": {
    "name": "ipython",
    "version": 3
   },
   "file_extension": ".py",
   "mimetype": "text/x-python",
   "name": "python",
   "nbconvert_exporter": "python",
   "pygments_lexer": "ipython3",
   "version": "3.13.2"
  }
 },
 "nbformat": 4,
 "nbformat_minor": 2
}
