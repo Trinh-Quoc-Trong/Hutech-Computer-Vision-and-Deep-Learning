{
  "cells": [
    {
      "cell_type": "code",
      "execution_count": 2,
      "metadata": {
        "id": "Z9ObJY5LkG0X"
      },
      "outputs": [],
      "source": [
        "import numpy as np"
      ]
    },
    {
      "cell_type": "code",
      "execution_count": 3,
      "metadata": {
        "id": "kALuh8IqkXAi"
      },
      "outputs": [],
      "source": [
        "# Bài toán XOR: Có 4 mẫu đầu vào và đầu ra tương ứng\n",
        "# Tạo mảng X chứa 4 mẫu đầu vào: [0,0], [0,1], [1,0], [1,1]\n",
        "X = np.array([[0,0], [0,1], [1,0], [1,1]]) # Đầu vào\n",
        "# Tạo mảng y chứa kết quả đầu ra tương ứng với 4 mẫu đầu vào theo phép XOR: 0, 1, 1, 0\n",
        "y = np.array([[0], [1], [1], [0]])"
      ]
    },
    {
      "cell_type": "code",
      "execution_count": 4,
      "metadata": {
        "id": "8bZwFs-slGzN"
      },
      "outputs": [],
      "source": [
        "def sigmoid(x):\n",
        "  # Hàm sigmoid: f(x) = 1/(1+e^(-x)) , giới hạn đầu trong khoảng (0, 1)\n",
        "  return 1/(1+np.exp(-x));"
      ]
    },
    {
      "cell_type": "code",
      "execution_count": 5,
      "metadata": {
        "id": "_mzMsBgsloDj"
      },
      "outputs": [],
      "source": [
        "def sigmoid_derivative(x):\n",
        "  # Đạo hàm của hàm sigmoid: f'(x) = f(x)*(1-f(x))\n",
        "  # lưu ý: x ở đây là giá trị của hàm sigmoid\n",
        "  return x*(1-x);"
      ]
    },
    {
      "cell_type": "code",
      "execution_count": 6,
      "metadata": {
        "id": "VUd5j8E0mWHO"
      },
      "outputs": [],
      "source": [
        "# Định nghĩa lớp mạng nơ-ron:\n",
        "class NeuralNetwork:\n",
        "  def __init__(self, x, y):\n",
        "    # Khởi tạo mạng với dữ liệu đầu vào là x và đầu ra mong muốn là y\n",
        "    self.input = x\n",
        "    # Khởi tạo ngẫu nhiên trọng số kết nối từ lớp đầu vào (2 node)\n",
        "    # đến lớp ẩn (4 node)\n",
        "    self.weigths1 = np.random.rand(self.input.shape[1], 4) # Trọng số lớp đầu vào -> lớp ẩn\n",
        "    # Khởi tạo ngẫu nhiên trọng số kết nối từ lớp ẩn (4 node) đến lớp đầu ra (1 node)\n",
        "    self.weigths2 = np.random.rand(4, 1)\n",
        "    # Lưu trữ đầu ra mong muốn\n",
        "    self.y = y\n",
        "    # Khởi tạo mảng đầu ra với kích thước giống y và giá trị ban đầu bằng 0\n",
        "    self.output = np.zeros(self.y.shape)\n",
        "\n",
        "  def feedforward(self):\n",
        "    # Lan truyền thuận - tính đầu ra của mạng với trọng số hiện tại\n",
        "    # Tính đầu ra của lớp ẩn: input * weights1 qua hàm sigmoid\n",
        "    self.layer1 = sigmoid(np.dot(self.input, self.weigths1)) # đầu ra của lớp ẩn\n",
        "    # Tính đầu ra của lớp đầu ra: layer1 * weights2 qua hàm sigmoid\n",
        "    self.output = sigmoid(np.dot(self.layer1, self.weigths2)) # đầu ra của lớp đầu ra\n",
        "\n",
        "  def backprop(self):\n",
        "    # Lan truyền ngược - cập nhật trọng số dựa trên lỗi\n",
        "    # Tính gradient\n",
        "    # Tính đạo hàm của lỗi theo weights2:\n",
        "    # (layer1.T là chuyển vị của layer1) nhân với (2*lỗi*đạo hàm sigmoid tại output)\n",
        "    # Hệ số 2 từ đạo hàm của hàm lỗi bình phương\n",
        "    d_weights2 = np.dot(self.layer1.T, (2*(self.y - self.output) * sigmoid_derivative(self.output)))\n",
        "    # Tính đạo hàm của lỗi theo weights1:\n",
        "    # (input.T nhân với đạo hàm lỗi theo layer1 * sigmoid tại layer1)\n",
        "    # Đạo hàm lỗi theo layer1 = đạo hàm lỗi theo output nhân với weights2.T\n",
        "    d_weights1 = np.dot(self.input.T, np.dot(2*(self.y - self.output) * sigmoid_derivative(self.output), self.weigths2.T) * sigmoid_derivative(self.layer1))\n",
        "\n",
        "    # Cập nhật trọng số bằng cách công với gradient (learning rate mặc định bằng 1)\n",
        "    self.weigths1 += d_weights1\n",
        "    self.weigths2 += d_weights2"
      ]
    },
    {
      "cell_type": "code",
      "execution_count": null,
      "metadata": {
        "id": "pDDRcsRIr4bS"
      },
      "outputs": [],
      "source": [
        "# KHỞI TẠO ĐỐI TƯỢNG MẠNG NEURAL VỚI DỮ LIỆU X, y"
      ]
    },
    {
      "cell_type": "code",
      "execution_count": 7,
      "metadata": {
        "id": "KZBph-pCr-xp"
      },
      "outputs": [],
      "source": [
        "nn = NeuralNetwork(X, y)"
      ]
    },
    {
      "cell_type": "code",
      "execution_count": 8,
      "metadata": {
        "id": "__mNXxwZsBow"
      },
      "outputs": [
        {
          "name": "stdout",
          "output_type": "stream",
          "text": [
            "Lỗi sau 0 epochs: 0.33670120430697037\n",
            "Lỗi sau 1000 epochs: 0.0023321526867997903\n",
            "Lỗi sau 2000 epochs: 0.0009570587948889826\n",
            "Lỗi sau 3000 epochs: 0.0005664616753446061\n",
            "Lỗi sau 4000 epochs: 0.00038433760230197766\n",
            "Lỗi sau 5000 epochs: 0.00028190553706419075\n",
            "Lỗi sau 6000 epochs: 0.0002185864165392997\n",
            "Lỗi sau 7000 epochs: 0.00017686657749637044\n",
            "Lỗi sau 8000 epochs: 0.00014790146720300245\n",
            "Lỗi sau 9000 epochs: 0.00012687523346233582\n",
            "Lỗi sau 10000 epochs: 0.00011102821549974075\n",
            "Lỗi sau 11000 epochs: 9.870500064730572e-05\n",
            "Lỗi sau 12000 epochs: 8.886918147183686e-05\n",
            "Lỗi sau 13000 epochs: 8.084601154243208e-05\n",
            "Lỗi sau 14000 epochs: 7.418054457965024e-05\n",
            "Lỗi sau 15000 epochs: 6.855637884331475e-05\n",
            "Lỗi sau 16000 epochs: 6.374737728469617e-05\n",
            "Lỗi sau 17000 epochs: 5.9587985516364185e-05\n",
            "Lỗi sau 18000 epochs: 5.595440476431277e-05\n",
            "Lỗi sau 19000 epochs: 5.275230679671522e-05\n",
            "Lỗi sau 20000 epochs: 4.990860959978989e-05\n",
            "Lỗi sau 21000 epochs: 4.7365842625999254e-05\n",
            "Lỗi sau 22000 epochs: 4.50782045982304e-05\n",
            "Lỗi sau 23000 epochs: 4.300875267749052e-05\n",
            "Lỗi sau 24000 epochs: 4.112736350502491e-05\n",
            "Lỗi sau 25000 epochs: 3.9409230788815754e-05\n",
            "Lỗi sau 26000 epochs: 3.7833742283578626e-05\n",
            "Lỗi sau 27000 epochs: 3.6383629281859396e-05\n",
            "Lỗi sau 28000 epochs: 3.504431468682912e-05\n",
            "Lỗi sau 29000 epochs: 3.3803407728999714e-05\n",
            "Lỗi sau 30000 epochs: 3.265030831039517e-05\n",
            "Lỗi sau 31000 epochs: 3.1575894240333626e-05\n",
            "Lỗi sau 32000 epochs: 3.0572271811990265e-05\n",
            "Lỗi sau 33000 epochs: 2.9632575257510928e-05\n",
            "Lỗi sau 34000 epochs: 2.8750804268160907e-05\n",
            "Lỗi sau 35000 epochs: 2.7921691412735e-05\n",
            "Lỗi sau 36000 epochs: 2.7140593228223324e-05\n",
            "Lỗi sau 37000 epochs: 2.6403400194363784e-05\n",
            "Lỗi sau 38000 epochs: 2.5706461878805467e-05\n",
            "Lỗi sau 39000 epochs: 2.5046524350890107e-05\n",
            "Lỗi sau 40000 epochs: 2.4420677579387197e-05\n",
            "Lỗi sau 41000 epochs: 2.3826311003047532e-05\n",
            "Lỗi sau 42000 epochs: 2.3261075828834565e-05\n",
            "Lỗi sau 43000 epochs: 2.2722852897535546e-05\n",
            "Lỗi sau 44000 epochs: 2.2209725179732806e-05\n",
            "Lỗi sau 45000 epochs: 2.171995414113009e-05\n",
            "Lỗi sau 46000 epochs: 2.1251959355977645e-05\n",
            "Lỗi sau 47000 epochs: 2.0804300858824127e-05\n",
            "Lỗi sau 48000 epochs: 2.0375663814305977e-05\n",
            "Lỗi sau 49000 epochs: 1.996484515687721e-05\n",
            "Lỗi sau 50000 epochs: 1.9570741910905894e-05\n",
            "Lỗi sau 51000 epochs: 1.9192340949268132e-05\n",
            "Lỗi sau 52000 epochs: 1.882870998755169e-05\n",
            "Lỗi sau 53000 epochs: 1.847898964311901e-05\n",
            "Lỗi sau 54000 epochs: 1.814238641470498e-05\n",
            "Lỗi sau 55000 epochs: 1.7818166460209374e-05\n",
            "Lỗi sau 56000 epochs: 1.750565006858237e-05\n",
            "Lỗi sau 57000 epochs: 1.7204206736961243e-05\n",
            "Lỗi sau 58000 epochs: 1.691325077698645e-05\n",
            "Lỗi sau 59000 epochs: 1.6632237384977356e-05\n",
            "Lỗi sau 60000 epochs: 1.636065911971317e-05\n",
            "Lỗi sau 61000 epochs: 1.6098042739240628e-05\n",
            "Lỗi sau 62000 epochs: 1.5843946354635604e-05\n",
            "Lỗi sau 63000 epochs: 1.559795686421191e-05\n",
            "Lỗi sau 64000 epochs: 1.535968763637901e-05\n",
            "Lỗi sau 65000 epochs: 1.51287764134484e-05\n",
            "Lỗi sau 66000 epochs: 1.4904883412116503e-05\n",
            "Lỗi sau 67000 epochs: 1.4687689599409916e-05\n",
            "Lỗi sau 68000 epochs: 1.4476895125404903e-05\n",
            "Lỗi sau 69000 epochs: 1.4272217896323626e-05\n",
            "Lỗi sau 70000 epochs: 1.4073392273511785e-05\n",
            "Lỗi sau 71000 epochs: 1.3880167885504431e-05\n",
            "Lỗi sau 72000 epochs: 1.3692308541852324e-05\n",
            "Lỗi sau 73000 epochs: 1.3509591238661127e-05\n",
            "Lỗi sau 74000 epochs: 1.3331805246908083e-05\n",
            "Lỗi sau 75000 epochs: 1.3158751275603141e-05\n",
            "Lỗi sau 76000 epochs: 1.2990240702690867e-05\n",
            "Lỗi sau 77000 epochs: 1.2826094867382998e-05\n",
            "Lỗi sau 78000 epochs: 1.26661444182478e-05\n",
            "Lỗi sau 79000 epochs: 1.2510228711994331e-05\n",
            "Lỗi sau 80000 epochs: 1.2358195258394359e-05\n",
            "Lỗi sau 81000 epochs: 1.2209899207261346e-05\n",
            "Lỗi sau 82000 epochs: 1.2065202873800496e-05\n",
            "Lỗi sau 83000 epochs: 1.192397529901911e-05\n",
            "Lỗi sau 84000 epochs: 1.17860918422076e-05\n",
            "Lỗi sau 85000 epochs: 1.1651433802783565e-05\n",
            "Lỗi sau 86000 epochs: 1.1519888069053689e-05\n",
            "Lỗi sau 87000 epochs: 1.1391346791691819e-05\n",
            "Lỗi sau 88000 epochs: 1.1265707079901498e-05\n",
            "Lỗi sau 89000 epochs: 1.1142870718464118e-05\n",
            "Lỗi sau 90000 epochs: 1.1022743903996988e-05\n",
            "Lỗi sau 91000 epochs: 1.0905236998919674e-05\n",
            "Lỗi sau 92000 epochs: 1.0790264301751595e-05\n",
            "Lỗi sau 93000 epochs: 1.0677743832493996e-05\n",
            "Lỗi sau 94000 epochs: 1.0567597131938575e-05\n",
            "Lỗi sau 95000 epochs: 1.0459749073865744e-05\n",
            "Lỗi sau 96000 epochs: 1.0354127689176936e-05\n",
            "Lỗi sau 97000 epochs: 1.0250664001076257e-05\n",
            "Lỗi sau 98000 epochs: 1.0149291870499117e-05\n",
            "Lỗi sau 99000 epochs: 1.0049947851058951e-05\n"
          ]
        }
      ],
      "source": [
        "# Huấn luyện mạng neural qua 10000 vòng lặp (epochs)\n",
        "for i in range(100000):\n",
        "  # Tính đầu ra với trọng số hiện tại\n",
        "  nn.feedforward()\n",
        "  # Cập nhật trọng số dựa trên lỗi\n",
        "  nn.backprop()\n",
        "  # in ra lỗi sau mỗi 1000 epochs để theo dõi quá trình huấn luyện\n",
        "  if i % 1000 == 0:\n",
        "    print(\"Lỗi sau\", i, \"epochs:\", np.mean(np.square(y - nn.output)))"
      ]
    },
    {
      "cell_type": "code",
      "execution_count": 9,
      "metadata": {
        "id": "xm6CNZlBssdK"
      },
      "outputs": [
        {
          "name": "stdout",
          "output_type": "stream",
          "text": [
            "[[0.00292764]\n",
            " [0.99680545]\n",
            " [0.99674882]\n",
            " [0.0032348 ]]\n"
          ]
        }
      ],
      "source": [
        "# Tính đầu ra cuối cùng với trọng số đã huấn luyện\n",
        "nn.feedforward()\n",
        "# In ra đầu ra dự đoán\n",
        "print(nn.output)"
      ]
    },
    {
      "cell_type": "code",
      "execution_count": null,
      "metadata": {},
      "outputs": [],
      "source": []
    }
  ],
  "metadata": {
    "colab": {
      "private_outputs": true,
      "provenance": []
    },
    "kernelspec": {
      "display_name": "Python 3",
      "name": "python3"
    },
    "language_info": {
      "codemirror_mode": {
        "name": "ipython",
        "version": 3
      },
      "file_extension": ".py",
      "mimetype": "text/x-python",
      "name": "python",
      "nbconvert_exporter": "python",
      "pygments_lexer": "ipython3",
      "version": "3.13.2"
    }
  },
  "nbformat": 4,
  "nbformat_minor": 0
}
