{
 "cells": [
  {
   "cell_type": "code",
   "execution_count": null,
   "metadata": {},
   "outputs": [
    {
     "data": {
      "text/plain": [
       "Traceback (most recent call last):\n",
       "  File \"c:\\Users\\MSI\\.vscode\\extensions\\ms-python.python-2025.0.0-win32-x64\\python_files\\python_server.py\", line 133, in exec_user_input\n",
       "    retval = callable_(user_input, user_globals)\n",
       "             ^^^^^^^^^^^^^^^^^^^^^^^^^^^^^^^^^^^\n",
       "  File \"<string>\", line 3, in <module>\n",
       "ModuleNotFoundError: No module named 'pandas'\n",
       "\n"
      ]
     },
     "metadata": {},
     "output_type": "display_data"
    }
   ],
   "source": [
    "from cProfile import label\n",
    "import numpy as np\n",
    "import pandas as pd\n",
    "import matplotlib.pyplot as plt\n",
    "from sklearn.linear_model import LinearRegression\n",
    "from sklearn.datasets import load_iris\n",
    "from torch import mode\n",
    "from sklearn.model_selection import train_test_split\n",
    "from sklearn.metrics import mean_absolute_error\n",
    "\n",
    "\n",
    "def load_iris_data():\n",
    "    # load bộ dữ liệu Isis\n",
    "    iris = load_iris()\n",
    "    \n",
    "    #  chuyển đổi dữ liệu về dataframes\n",
    "    df = pd.DataFrame(data = iris.data, columns = iris.feature_names)\n",
    "    df[\"target\"] = iris.target\n",
    "    return df"
   ]
  },
  {
   "cell_type": "code",
   "execution_count": null,
   "metadata": {},
   "outputs": [],
   "source": [
    "def main():\n",
    "    df = load_iris_data()\n",
    "    print(df)\n",
    "    \n",
    "    #  lấy tên các đặc trưng \n",
    "    feature_names = df.columns[:-1]\n",
    "    print(feature_names)\n",
    "    \n",
    "    featurn_index = 0\n",
    "    target_"
   ]
  },
  {
   "cell_type": "code",
   "execution_count": null,
   "metadata": {},
   "outputs": [
    {
     "data": {
      "text/plain": [
       "Traceback (most recent call last):\n",
       "  File \"c:\\Users\\MSI\\.vscode\\extensions\\ms-python.python-2025.0.0-win32-x64\\python_files\\python_server.py\", line 133, in exec_user_input\n",
       "    retval = callable_(user_input, user_globals)\n",
       "             ^^^^^^^^^^^^^^^^^^^^^^^^^^^^^^^^^^^\n",
       "  File \"<string>\", line 1, in <module>\n",
       "  File \"<string>\", line 2, in main\n",
       "NameError: name 'load_iris_data' is not defined\n",
       "\n"
      ]
     },
     "metadata": {},
     "output_type": "display_data"
    }
   ],
   "source": [
    "main()"
   ]
  },
  {
   "cell_type": "code",
   "execution_count": null,
   "metadata": {},
   "outputs": [],
   "source": [
    "def prepare_data(df, feature_index = 0, target_index = 0):\n",
    "    # chọn 1 đặc trưng là biện đầu vào\n",
    "    X = df.iloc[:, feature_index].values.reshape(-1, 1)\n",
    "    # chọn biến đầu ra là đích đến\n",
    "    y = df.iloc[:, target_index].values\n",
    "    \n",
    "    #  chia tập dữ liệu thành tập huấn luyện và tập kiểm tra\n",
    "    X_train, X_test, y_train, y_test = train_test_split(X, y, test_size=0.2, random_state=42)\n",
    "    return X_train, X_test, y_train, y_test\n",
    "    return X, y"
   ]
  },
  {
   "cell_type": "code",
   "execution_count": null,
   "metadata": {},
   "outputs": [],
   "source": [
    "def train_and_evaluate_model(X_train, X_test, y_train, y_test):\n",
    "    model = LinearRegression()\n",
    "    model.fit(X_train, y_test)\n",
    "    \n",
    "    y_train_pred = model.predict(X_train)\n",
    "    y_test_pred = model.predict(X_test)\n",
    "    \n",
    "    train_mse = mean_squared_error(y_train, y_train_pred)\n",
    "    test_mse = mean_squared_error(y_test, y_test_pred)\n",
    "    train_r2 = r2_score(y_train,y_train_pred)\n",
    "    test_r2 = r2_score(y_test, y_test_pred)\n",
    "    \n",
    "    print(f\"\\n kết quả hồi quy tuyến tính\" {feature_name} -> {target_name})\n",
    "    plt.subplot(1,2,2)\n",
    "    plt.scatter(X_test, y_train, color='red', label='Dữ liệu gốc')\n",
    "    plt.plot"
   ]
  },
  {
   "cell_type": "code",
   "execution_count": null,
   "metadata": {},
   "outputs": [],
   "source": []
  },
  {
   "cell_type": "code",
   "execution_count": null,
   "metadata": {},
   "outputs": [],
   "source": []
  }
 ],
 "metadata": {
  "language_info": {
   "name": "python"
  }
 },
 "nbformat": 4,
 "nbformat_minor": 2
}
